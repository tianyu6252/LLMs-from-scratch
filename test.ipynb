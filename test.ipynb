{
 "cells": [
  {
   "cell_type": "code",
   "execution_count": 1,
   "metadata": {},
   "outputs": [
    {
     "name": "stdout",
     "output_type": "stream",
     "text": [
      "288\n"
     ]
    }
   ],
   "source": [
    "print(ord('Ġ'))"
   ]
  },
  {
   "cell_type": "code",
   "execution_count": 1,
   "metadata": {},
   "outputs": [
    {
     "ename": "TypeError",
     "evalue": "'list' object is not an iterator",
     "output_type": "error",
     "traceback": [
      "\u001b[0;31m---------------------------------------------------------------------------\u001b[0m",
      "\u001b[0;31mTypeError\u001b[0m                                 Traceback (most recent call last)",
      "Cell \u001b[0;32mIn[1], line 1\u001b[0m\n\u001b[0;32m----> 1\u001b[0m \u001b[38;5;28;43mnext\u001b[39;49m\u001b[43m(\u001b[49m\u001b[43m[\u001b[49m\u001b[38;5;241;43m1\u001b[39;49m\u001b[43m,\u001b[49m\u001b[43m \u001b[49m\u001b[38;5;241;43m2\u001b[39;49m\u001b[43m,\u001b[49m\u001b[43m \u001b[49m\u001b[38;5;241;43m3\u001b[39;49m\u001b[43m]\u001b[49m\u001b[43m)\u001b[49m\n",
      "\u001b[0;31mTypeError\u001b[0m: 'list' object is not an iterator"
     ]
    }
   ],
   "source": [
    "next([1, 2, 3])"
   ]
  },
  {
   "cell_type": "markdown",
   "metadata": {},
   "source": [
    "旋转矩阵"
   ]
  },
  {
   "cell_type": "code",
   "execution_count": 1,
   "metadata": {},
   "outputs": [
    {
     "name": "stdout",
     "output_type": "stream",
     "text": [
      "[0.70710678 0.70710678]\n"
     ]
    }
   ],
   "source": [
    "# 使用numpy实现2D向量旋转\n",
    "import numpy as np\n",
    "\n",
    "# 定义旋转角度（以弧度为单位）\n",
    "angle = np.pi / 4  # 45度\n",
    "\n",
    "# 创建旋转矩阵\n",
    "rotation_matrix = np.array([[np.cos(angle), -np.sin(angle)],\n",
    "                           [np.sin(angle), np.cos(angle)]])\n",
    "\n",
    "# 定义要旋转的2D向量\n",
    "vector = np.array([1, 0])\n",
    "\n",
    "# 应用旋转\n",
    "rotated_vector = np.dot(rotation_matrix, vector)\n",
    "print(rotated_vector)"
   ]
  },
  {
   "cell_type": "markdown",
   "metadata": {},
   "source": [
    "RoPE Vis from https://zhuanlan.zhihu.com/p/662790439"
   ]
  },
  {
   "cell_type": "code",
   "execution_count": null,
   "metadata": {},
   "outputs": [],
   "source": [
    "import numpy as np \n",
    "import matplotlib.pyplot as plt \n",
    "from matplotlib.axes import Axes\n",
    "\n",
    "def create_sin_cos_cache(max_num_tokens, head_size):\n",
    "    theta = 10000 ** (-np.arange(0, head_size, 2) / head_size)\n",
    "    # (head_size,)\n",
    "    theta = theta.reshape(-1, 1).repeat(2, axis=1).flatten()\n",
    "\n",
    "    pos = np.arange(0, max_num_tokens)\n",
    "    table = pos.reshape(-1, 1) @ theta.reshape(1, -1)  # [max_num_tokens, head_size]\n",
    "\n",
    "    sin_cache = np.sin(table)\n",
    "    sin_cache[:, ::2] = -sin_cache[:, ::2]\n",
    "\n",
    "    cos_cache = np.cos(table)\n",
    "    return sin_cache, cos_cache\n",
    "\n",
    "def rotate_half(vec):\n",
    "    return vec.reshape(-1, 2)[:, ::-1].flatten()\n",
    "\n",
    "def rotary(vec, pos, sin_table, cos_table):\n",
    "    return vec * cos_table[pos] + rotate_half(vec) * sin_table[pos]\n",
    "\n",
    "def plot(plt_obj: Axes, pic_index, query_index=0, head_size=256, max_num_tokens=8192, step=1):\n",
    "    q_vec = np.ones(head_size)\n",
    "    k_vec = np.ones(head_size)\n",
    "    sin_table, cos_table = create_sin_cos_cache(max_num_tokens, head_size)\n",
    "\n",
    "    rotated_q_vec = rotary(q_vec, query_index, sin_table, cos_table)\n",
    "    k_indices = np.arange(0, max_num_tokens, step)\n",
    "    rotated_k_vecs = rotary(k_vec, k_indices, sin_table, cos_table)\n",
    "    attn_scores = (rotated_k_vecs @ rotated_q_vec) / np.sqrt(head_size)\n",
    "\n",
    "    plt_obj.plot(k_indices, attn_scores)\n",
    "    plt_obj.set_title(f\"Figure {pic_index}: query_index={query_index}, head_size={head_size}\")\n",
    "    plt_obj.set_xlabel(\"key index\")\n",
    "    plt_obj.set_ylabel(\"attention score\")\n",
    "\n",
    "plt.rcParams.update({\n",
    "    \"font.family\": \"serif\",        # 使用默认衬线字体（如STIXGeneral）\n",
    "    \"font.size\": 10\n",
    "})\n",
    "\n",
    "\n",
    "_, axes = plt.subplots(nrows=2, ncols=2, figsize=(10, 10))\n",
    "plot(axes[0, 0], 1, query_index=0, max_num_tokens=512)\n",
    "plot(axes[0, 1], 2, query_index=256, max_num_tokens=512)\n",
    "plot(axes[1, 0], 3, query_index=0, max_num_tokens=65535)\n",
    "plot(axes[1, 1], 4, query_index=0, head_size=8, max_num_tokens=65535)"
   ]
  },
  {
   "cell_type": "code",
   "execution_count": 1,
   "metadata": {},
   "outputs": [
    {
     "name": "stdout",
     "output_type": "stream",
     "text": [
      "tensor([[0., 1., 1., 1., 1., 1., 1., 1., 1., 1.],\n",
      "        [0., 0., 1., 1., 1., 1., 1., 1., 1., 1.],\n",
      "        [0., 0., 0., 1., 1., 1., 1., 1., 1., 1.],\n",
      "        [0., 0., 0., 0., 1., 1., 1., 1., 1., 1.],\n",
      "        [0., 0., 0., 0., 0., 1., 1., 1., 1., 1.],\n",
      "        [0., 0., 0., 0., 0., 0., 1., 1., 1., 1.],\n",
      "        [0., 0., 0., 0., 0., 0., 0., 1., 1., 1.],\n",
      "        [0., 0., 0., 0., 0., 0., 0., 0., 1., 1.],\n",
      "        [0., 0., 0., 0., 0., 0., 0., 0., 0., 1.],\n",
      "        [0., 0., 0., 0., 0., 0., 0., 0., 0., 0.]])\n"
     ]
    }
   ],
   "source": [
    "import torch\n",
    "context_length = 10\n",
    "triangle = torch.triu(torch.ones(context_length, context_length), diagonal=1)\n",
    "print(triangle)"
   ]
  }
 ],
 "metadata": {
  "kernelspec": {
   "display_name": "llm",
   "language": "python",
   "name": "python3"
  },
  "language_info": {
   "codemirror_mode": {
    "name": "ipython",
    "version": 3
   },
   "file_extension": ".py",
   "mimetype": "text/x-python",
   "name": "python",
   "nbconvert_exporter": "python",
   "pygments_lexer": "ipython3",
   "version": "3.10.16"
  }
 },
 "nbformat": 4,
 "nbformat_minor": 2
}
